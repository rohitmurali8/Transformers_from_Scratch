{
  "nbformat": 4,
  "nbformat_minor": 0,
  "metadata": {
    "colab": {
      "provenance": []
    },
    "kernelspec": {
      "name": "python3",
      "display_name": "Python 3"
    },
    "language_info": {
      "name": "python"
    }
  },
  "cells": [
    {
      "cell_type": "code",
      "execution_count": null,
      "metadata": {
        "id": "Dy-2MDsV4iyU"
      },
      "outputs": [],
      "source": [
        "import torch\n",
        "import torch.nn as nn\n",
        "import torch.optim as optim\n",
        "import torch.nn.functional as F\n",
        "from torch.utils.data import DataLoader\n",
        "import torchvision\n",
        "import numpy as np\n",
        "import math, copy"
      ]
    },
    {
      "cell_type": "code",
      "source": [
        "class MultiHeadAttention(nn.Module):\n",
        "    def __init__(self, d_model, num_heads):\n",
        "        super(MultiHeadAttention, self).__init__()\n",
        "        assert d_model % num_heads == 0, \"d_model must be divisible by the num_heads\"\n",
        "        self.d_model = d_model\n",
        "        self.num_heads = num_heads\n",
        "        self.d_k = d_model // num_heads\n",
        "\n",
        "        self.W_q = nn.Linear(d_model, d_model)\n",
        "        self.W_k = nn.Linear(d_model, d_model)\n",
        "        self.W_v = nn.Linear(d_model, d_model)\n",
        "        self.W_o = nn.Linear(d_model, d_model)\n",
        "\n",
        "    def scaled_dot_product_attention(self, Q, K, V, mask=None):\n",
        "        attention_weights = torch.matmul(Q, K.transpose(-2,-1)) / math.sqrt(self.d_k)\n",
        "        if mask is not None:\n",
        "          attention_weights = attention_weights.masked_fill(mask == 0, -1e9)\n",
        "        attention_weights = F.softmax(attention_weights, dim=-1)\n",
        "        output = torch.matmul(attention_weights, V)\n",
        "        return output\n",
        "\n",
        "    def split_heads(self, x):\n",
        "        batch_size, seq_length, d_model = x.size()\n",
        "        return x.view(batch_size, seq_length, self.num_heads, self.d_k).transpose(1, 2)\n",
        "\n",
        "    def combine_heads(self, x):\n",
        "        batch_size, _, seq_length, d_k = x.size()\n",
        "        return x.transpose(1, 2).contiguous().view(batch_size, seq_length, self.d_model)\n",
        "\n",
        "    def forward(self, Q, K, V, mask=None):\n",
        "        Q = self.split_heads(self.W_q(Q))\n",
        "        K = self.split_heads(self.W_k(K))\n",
        "        V = self.split_heads(self.W_v(V))\n",
        "\n",
        "        attn_output = self.scaled_dot_product_attention(Q, K, V, mask)\n",
        "        output = self.W_o(self.combine_heads(attn_output))\n",
        "        return output"
      ],
      "metadata": {
        "id": "MWg85Doy40h4"
      },
      "execution_count": null,
      "outputs": []
    },
    {
      "cell_type": "code",
      "source": [
        "class PositionWiseFeedForward(nn.Module):\n",
        "    def __init__(self, d_model, d_ff):\n",
        "        super(PositionWiseFeedForward, self).__init__()\n",
        "        self.fc1 = nn.Linear(d_model, d_ff)\n",
        "        self.fc2 = nn.Linear(d_ff, d_model)\n",
        "        self.relu = nn.ReLU()\n",
        "\n",
        "    def forward(self, x):\n",
        "        return self.fc2(self.relu(self.fc1(x)))"
      ],
      "metadata": {
        "id": "LvKH2Ig1_1Rn"
      },
      "execution_count": null,
      "outputs": []
    },
    {
      "cell_type": "code",
      "source": [
        "class PositionalEncoding(nn.Module):\n",
        "    def __init__(self, d_model, max_len=5000):\n",
        "        super(PositionalEncoding, self).__init__()\n",
        "        pe = torch.zeros(max_len, d_model)\n",
        "        position = torch.arange(0, max_len, dtype=torch.float).unsqueeze(1)\n",
        "        div_term = torch.exp(torch.arange(0, d_model, 2).float() * -(math.log(10000.0) / d_model))\n",
        "\n",
        "        pe[:, 0::2] = torch.sin(position * div_term)\n",
        "        pe[:, 1::2] = torch.cos(position * div_term)\n",
        "\n",
        "        self.register_buffer('pe', pe.unsqueeze(0))\n",
        "\n",
        "    def forward(self, x):\n",
        "        return x + self.pe[:, :x.size(1)]\n"
      ],
      "metadata": {
        "id": "k0QpWOul_6ra"
      },
      "execution_count": null,
      "outputs": []
    },
    {
      "cell_type": "code",
      "source": [
        "class Encoder(nn.Module):\n",
        "    def __init__(self, d_model, num_heads, d_ff):\n",
        "        super(Encoder, self).__init__()\n",
        "        self.mha = MultiHeadAttention(d_model, num_heads)\n",
        "        self.positional_encoding = PositionalEncoding(d_model)\n",
        "        self.positional_ff = PositionWiseFeedForward(d_model, d_ff)\n",
        "        self.norm = nn.LayerNorm(d_model)\n",
        "\n",
        "    def forward(self, x, mask=None):\n",
        "        encoded_data = self.positional_encoding(x)\n",
        "        mha_output = self.mha(encoded_data, encoded_data, encoded_data, mask)\n",
        "        x = self.norm(encoded_data + mha_output)\n",
        "        ff = self.positional_ff(x)\n",
        "        x = self.norm(x+ff)\n",
        "        return x"
      ],
      "metadata": {
        "id": "Toe9v7ulG0bj"
      },
      "execution_count": null,
      "outputs": []
    },
    {
      "cell_type": "code",
      "source": [
        "class Decoder(nn.Module):\n",
        "    def __init__(self, d_model, num_heads, d_ff):\n",
        "        super(Decoder, self).__init__()\n",
        "        self.positional_encoding = PositionalEncoding(d_model)\n",
        "        self.positional_ff = PositionWiseFeedForward(d_model, d_ff)\n",
        "        self.norm1 = nn.LayerNorm(d_model)\n",
        "        self.norm2 = nn.LayerNorm(d_model)\n",
        "        self.norm3 = nn.LayerNorm(d_model)\n",
        "        self.mha1 = MultiHeadAttention(d_model, num_heads)\n",
        "        self.mha2 = MultiHeadAttention(d_model, num_heads)\n",
        "\n",
        "    def forward(self, x, encoder_output, src_mask, tgt_mask):\n",
        "        encoded_data = self.positional_encoding(x)\n",
        "        mha1_output = self.mha1(encoded_data, encoded_data, encoded_data, tgt_mask)\n",
        "        x = self.norm1(encoded_data + mha1_output)\n",
        "        mha2_output = self.mha2(x, encoder_output, encoder_output, src_mask)\n",
        "        x = self.norm2(x + mha2_output)\n",
        "        ff = self.positional_ff(x)\n",
        "        x = self.norm3(x + ff)\n",
        "        return x\n"
      ],
      "metadata": {
        "id": "u_45WVzqy_tO"
      },
      "execution_count": null,
      "outputs": []
    },
    {
      "cell_type": "code",
      "source": [
        "class Transformer(nn.Module):\n",
        "    def __init__(self, src_vocab_size, tgt_vocab_size, d_model, num_heads, num_layers, d_ff, max_seq_len, dropout):\n",
        "        super(Transformer, self).__init__()\n",
        "        self.encoder_embedding = nn.Embedding(src_vocab_size, d_model)\n",
        "        self.decoder_embedding = nn.Embedding(tgt_vocab_size, d_model)\n",
        "\n",
        "        self.positional_encoding = PositionalEncoding(d_model, max_seq_len)\n",
        "        self.encoder_layers = nn.ModuleList([Encoder(d_model, num_heads, d_ff) for i in range(num_layers)])\n",
        "        self.decoder_layers = nn.ModuleList([Decoder(d_model, num_heads, d_ff) for i in range(num_layers)])\n",
        "\n",
        "        self.fc = nn.Linear(d_model, tgt_vocab_size)\n",
        "        self.dropout = nn.Dropout(dropout)\n",
        "\n",
        "    def generate_mask(self, src, tgt):\n",
        "        src_mask = (src != 0).unsqueeze(1).unsqueeze(2)\n",
        "        tgt_mask = (tgt != 0).unsqueeze(1).unsqueeze(3)\n",
        "        seq_length = tgt.size(1)\n",
        "        nopeak_mask = (1 - torch.triu(torch.ones(1, seq_length, seq_length), diagonal=1)).bool()\n",
        "        tgt_mask = tgt_mask & nopeak_mask\n",
        "        return src_mask, tgt_mask\n",
        "\n",
        "    def forward(self, src, tgt):\n",
        "        src_mask, tgt_mask = self.generate_mask(src, tgt)\n",
        "        src_embedded = self.dropout(self.positional_encoding(self.encoder_embedding(src)))\n",
        "        tgt_embedded = self.dropout(self.positional_encoding(self.decoder_embedding(tgt)))\n",
        "\n",
        "        enc_output = src_embedded\n",
        "        for enc_layer in self.encoder_layers:\n",
        "            enc_output = enc_layer(enc_output, src_mask)\n",
        "\n",
        "        dec_output = tgt_embedded\n",
        "        for dec_layer in self.decoder_layers:\n",
        "            dec_output = dec_layer(dec_output, enc_output, src_mask, tgt_mask)\n",
        "\n",
        "        output = self.fc(dec_output)\n",
        "        return output"
      ],
      "metadata": {
        "id": "k8ZzDnUB4EPF"
      },
      "execution_count": null,
      "outputs": []
    },
    {
      "cell_type": "code",
      "source": [
        "src_vocab_size = 5000\n",
        "tgt_vocab_size = 5000\n",
        "d_model = 512\n",
        "num_heads = 8\n",
        "num_layers = 6\n",
        "d_ff = 2048\n",
        "max_seq_length = 100\n",
        "dropout = 0.1\n",
        "\n",
        "transformer = Transformer(src_vocab_size, tgt_vocab_size, d_model, num_heads, num_layers, d_ff, max_seq_length, dropout)"
      ],
      "metadata": {
        "id": "xC4Y6tQiAWus"
      },
      "execution_count": null,
      "outputs": []
    },
    {
      "cell_type": "code",
      "source": [
        "print(transformer.parameters)"
      ],
      "metadata": {
        "colab": {
          "base_uri": "https://localhost:8080/"
        },
        "id": "KIYn9XsfAYnT",
        "outputId": "e818684b-baf3-448e-bd43-13e9a5829d09"
      },
      "execution_count": null,
      "outputs": [
        {
          "output_type": "stream",
          "name": "stdout",
          "text": [
            "<bound method Module.parameters of Transformer(\n",
            "  (encoder_embedding): Embedding(5000, 512)\n",
            "  (decoder_embedding): Embedding(5000, 512)\n",
            "  (positional_encoding): PositionalEncoding()\n",
            "  (encoder_layers): ModuleList(\n",
            "    (0-5): 6 x Encoder(\n",
            "      (mha): MultiHeadAttention(\n",
            "        (W_q): Linear(in_features=512, out_features=512, bias=True)\n",
            "        (W_k): Linear(in_features=512, out_features=512, bias=True)\n",
            "        (W_v): Linear(in_features=512, out_features=512, bias=True)\n",
            "        (W_o): Linear(in_features=512, out_features=512, bias=True)\n",
            "      )\n",
            "      (positional_encoding): PositionalEncoding()\n",
            "      (positional_ff): PositionWiseFeedForward(\n",
            "        (fc1): Linear(in_features=512, out_features=2048, bias=True)\n",
            "        (fc2): Linear(in_features=2048, out_features=512, bias=True)\n",
            "        (relu): ReLU()\n",
            "      )\n",
            "      (norm): LayerNorm((512,), eps=1e-05, elementwise_affine=True)\n",
            "    )\n",
            "  )\n",
            "  (decoder_layers): ModuleList(\n",
            "    (0-5): 6 x Decoder(\n",
            "      (positional_encoding): PositionalEncoding()\n",
            "      (positional_ff): PositionWiseFeedForward(\n",
            "        (fc1): Linear(in_features=512, out_features=2048, bias=True)\n",
            "        (fc2): Linear(in_features=2048, out_features=512, bias=True)\n",
            "        (relu): ReLU()\n",
            "      )\n",
            "      (norm1): LayerNorm((512,), eps=1e-05, elementwise_affine=True)\n",
            "      (norm2): LayerNorm((512,), eps=1e-05, elementwise_affine=True)\n",
            "      (norm3): LayerNorm((512,), eps=1e-05, elementwise_affine=True)\n",
            "      (mha1): MultiHeadAttention(\n",
            "        (W_q): Linear(in_features=512, out_features=512, bias=True)\n",
            "        (W_k): Linear(in_features=512, out_features=512, bias=True)\n",
            "        (W_v): Linear(in_features=512, out_features=512, bias=True)\n",
            "        (W_o): Linear(in_features=512, out_features=512, bias=True)\n",
            "      )\n",
            "      (mha2): MultiHeadAttention(\n",
            "        (W_q): Linear(in_features=512, out_features=512, bias=True)\n",
            "        (W_k): Linear(in_features=512, out_features=512, bias=True)\n",
            "        (W_v): Linear(in_features=512, out_features=512, bias=True)\n",
            "        (W_o): Linear(in_features=512, out_features=512, bias=True)\n",
            "      )\n",
            "    )\n",
            "  )\n",
            "  (fc): Linear(in_features=512, out_features=5000, bias=True)\n",
            "  (dropout): Dropout(p=0.1, inplace=False)\n",
            ")>\n"
          ]
        }
      ]
    },
    {
      "cell_type": "code",
      "source": [
        "# Generate random sample data\n",
        "src_data = torch.randint(1, src_vocab_size, (64, max_seq_length))  # (batch_size, seq_length)\n",
        "tgt_data = torch.randint(1, tgt_vocab_size, (64, max_seq_length))  # (batch_size, seq_length)"
      ],
      "metadata": {
        "id": "jxTFFsxsCj2T"
      },
      "execution_count": null,
      "outputs": []
    },
    {
      "cell_type": "code",
      "source": [
        "criterion = nn.CrossEntropyLoss(ignore_index=0)\n",
        "optimizer = optim.Adam(transformer.parameters(), lr=0.0001, betas=(0.9, 0.98), eps=1e-9)\n",
        "\n",
        "transformer.train()\n",
        "\n",
        "for epoch in range(100):\n",
        "    optimizer.zero_grad()\n",
        "    output = transformer(src_data, tgt_data[:, :-1])\n",
        "    loss = criterion(output.contiguous().view(-1, tgt_vocab_size), tgt_data[:, 1:].contiguous().view(-1))\n",
        "    loss.backward()\n",
        "    optimizer.step()\n",
        "    print(f\"Epoch: {epoch+1}, Loss: {loss.item()}\")"
      ],
      "metadata": {
        "colab": {
          "base_uri": "https://localhost:8080/"
        },
        "id": "Bmo5VVoZCuWf",
        "outputId": "37c8971f-e7a6-4cdd-ba2d-f9442acf2a6f"
      },
      "execution_count": null,
      "outputs": [
        {
          "output_type": "stream",
          "name": "stdout",
          "text": [
            "Epoch: 1, Loss: 8.68054485321045\n",
            "Epoch: 2, Loss: 8.57895278930664\n",
            "Epoch: 3, Loss: 8.50938892364502\n",
            "Epoch: 4, Loss: 8.457099914550781\n",
            "Epoch: 5, Loss: 8.410348892211914\n",
            "Epoch: 6, Loss: 8.364774703979492\n",
            "Epoch: 7, Loss: 8.316691398620605\n",
            "Epoch: 8, Loss: 8.265087127685547\n",
            "Epoch: 9, Loss: 8.211661338806152\n",
            "Epoch: 10, Loss: 8.158880233764648\n",
            "Epoch: 11, Loss: 8.106765747070312\n",
            "Epoch: 12, Loss: 8.05601978302002\n",
            "Epoch: 13, Loss: 8.006163597106934\n",
            "Epoch: 14, Loss: 7.955199718475342\n",
            "Epoch: 15, Loss: 7.904446125030518\n",
            "Epoch: 16, Loss: 7.852644443511963\n",
            "Epoch: 17, Loss: 7.801174640655518\n",
            "Epoch: 18, Loss: 7.747891426086426\n",
            "Epoch: 19, Loss: 7.696301460266113\n",
            "Epoch: 20, Loss: 7.644042491912842\n",
            "Epoch: 21, Loss: 7.5910797119140625\n",
            "Epoch: 22, Loss: 7.537935733795166\n",
            "Epoch: 23, Loss: 7.484330177307129\n",
            "Epoch: 24, Loss: 7.430030345916748\n",
            "Epoch: 25, Loss: 7.3747878074646\n",
            "Epoch: 26, Loss: 7.318397521972656\n",
            "Epoch: 27, Loss: 7.2605438232421875\n",
            "Epoch: 28, Loss: 7.202023506164551\n",
            "Epoch: 29, Loss: 7.143064022064209\n",
            "Epoch: 30, Loss: 7.081121444702148\n",
            "Epoch: 31, Loss: 7.017882823944092\n",
            "Epoch: 32, Loss: 6.952724933624268\n",
            "Epoch: 33, Loss: 6.886746883392334\n",
            "Epoch: 34, Loss: 6.819956302642822\n",
            "Epoch: 35, Loss: 6.755306243896484\n",
            "Epoch: 36, Loss: 6.682058811187744\n",
            "Epoch: 37, Loss: 6.609805107116699\n",
            "Epoch: 38, Loss: 6.543363094329834\n",
            "Epoch: 39, Loss: 6.466257572174072\n",
            "Epoch: 40, Loss: 6.398987293243408\n",
            "Epoch: 41, Loss: 6.320169448852539\n",
            "Epoch: 42, Loss: 6.255598545074463\n",
            "Epoch: 43, Loss: 6.180814266204834\n",
            "Epoch: 44, Loss: 6.111186981201172\n",
            "Epoch: 45, Loss: 6.036688327789307\n",
            "Epoch: 46, Loss: 5.966737747192383\n",
            "Epoch: 47, Loss: 5.891324043273926\n",
            "Epoch: 48, Loss: 5.8246002197265625\n",
            "Epoch: 49, Loss: 5.746333122253418\n",
            "Epoch: 50, Loss: 5.68367862701416\n",
            "Epoch: 51, Loss: 5.6134724617004395\n",
            "Epoch: 52, Loss: 5.543482780456543\n",
            "Epoch: 53, Loss: 5.463612079620361\n",
            "Epoch: 54, Loss: 5.395335674285889\n",
            "Epoch: 55, Loss: 5.325088024139404\n",
            "Epoch: 56, Loss: 5.252835273742676\n",
            "Epoch: 57, Loss: 5.181293964385986\n",
            "Epoch: 58, Loss: 5.1178202629089355\n",
            "Epoch: 59, Loss: 5.053962707519531\n",
            "Epoch: 60, Loss: 4.99485969543457\n",
            "Epoch: 61, Loss: 4.93424129486084\n",
            "Epoch: 62, Loss: 4.8488311767578125\n",
            "Epoch: 63, Loss: 4.7907328605651855\n",
            "Epoch: 64, Loss: 4.71912145614624\n",
            "Epoch: 65, Loss: 4.650313377380371\n",
            "Epoch: 66, Loss: 4.590057849884033\n",
            "Epoch: 67, Loss: 4.52462100982666\n",
            "Epoch: 68, Loss: 4.463895320892334\n",
            "Epoch: 69, Loss: 4.393848896026611\n",
            "Epoch: 70, Loss: 4.336856842041016\n",
            "Epoch: 71, Loss: 4.273103713989258\n",
            "Epoch: 72, Loss: 4.215163230895996\n",
            "Epoch: 73, Loss: 4.1578450202941895\n",
            "Epoch: 74, Loss: 4.1065673828125\n",
            "Epoch: 75, Loss: 4.0331268310546875\n",
            "Epoch: 76, Loss: 3.9712443351745605\n",
            "Epoch: 77, Loss: 3.9217381477355957\n",
            "Epoch: 78, Loss: 3.8583688735961914\n",
            "Epoch: 79, Loss: 3.794980764389038\n",
            "Epoch: 80, Loss: 3.7350642681121826\n",
            "Epoch: 81, Loss: 3.672295570373535\n",
            "Epoch: 82, Loss: 3.614149808883667\n",
            "Epoch: 83, Loss: 3.5547001361846924\n",
            "Epoch: 84, Loss: 3.5036208629608154\n",
            "Epoch: 85, Loss: 3.443605422973633\n",
            "Epoch: 86, Loss: 3.3905577659606934\n",
            "Epoch: 87, Loss: 3.3344156742095947\n",
            "Epoch: 88, Loss: 3.282369375228882\n",
            "Epoch: 89, Loss: 3.2212882041931152\n",
            "Epoch: 90, Loss: 3.171281576156616\n",
            "Epoch: 91, Loss: 3.117215633392334\n",
            "Epoch: 92, Loss: 3.0672409534454346\n",
            "Epoch: 93, Loss: 3.009592056274414\n",
            "Epoch: 94, Loss: 2.95308256149292\n",
            "Epoch: 95, Loss: 2.9026238918304443\n",
            "Epoch: 96, Loss: 2.8476645946502686\n",
            "Epoch: 97, Loss: 2.8096766471862793\n",
            "Epoch: 98, Loss: 2.7602245807647705\n",
            "Epoch: 99, Loss: 2.7101237773895264\n",
            "Epoch: 100, Loss: 2.657942056655884\n"
          ]
        }
      ]
    },
    {
      "cell_type": "code",
      "source": [],
      "metadata": {
        "id": "3u9sdUDiCylt"
      },
      "execution_count": null,
      "outputs": []
    }
  ]
}